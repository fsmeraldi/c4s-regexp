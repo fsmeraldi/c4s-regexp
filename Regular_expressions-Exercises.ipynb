{
 "cells": [
  {
   "cell_type": "markdown",
   "metadata": {},
   "source": [
    "### Mistery pattern"
   ]
  },
  {
   "cell_type": "markdown",
   "metadata": {},
   "source": [
    "What does the following regular expression match? Try to find out!\n",
    "```\n",
    "r\"([A-Za-z0-9\\.]+)@[A-Za-z0-9\\.]*qmul\\.ac\\.uk\"\n",
    "```"
   ]
  },
  {
   "cell_type": "code",
   "execution_count": null,
   "metadata": {},
   "outputs": [],
   "source": [
    "import re\n",
    "\n",
    "# \\. matches a literal dot\n",
    "pattern=r\"([A-Za-z0-9\\.]+)@[A-Za-z0-9\\.]*qmul\\.ac\\.uk\"\n",
    "\n",
    "# Your code here\n"
   ]
  },
  {
   "cell_type": "markdown",
   "metadata": {},
   "source": [
    "When you have got it, try using the ```.search()``` function to return a matching object and  print ```.group(1)``` of the matching object. This corresponds to whatever matches the content of the first (and only) pair of brackets () in the pattern. What is it?"
   ]
  },
  {
   "cell_type": "markdown",
   "metadata": {},
   "source": [
    "### FASTA headers"
   ]
  },
  {
   "cell_type": "markdown",
   "metadata": {},
   "source": [
    "Write a regular expression that parses the header of a FASTA file, and use it to store the various fields of the header in  a dictionary called ```protein_info```. For instance, from\n",
    "```\n",
    ">P04637|P53_HUMAN Cellular tumor antigen p53 - Homo sapiens (Human)\n",
    "```\n",
    "You should obtain\n",
    "```\n",
    "protein_info={\n",
    "    \"accession\": \"P04637\",\n",
    "    \"name\": \"P53_HUMAN Cellular tumor antigen p53\",\n",
    "    \"species\": \"Homo sapiens (Human)\"\n",
    "    }\n",
    "\n",
    "```\n",
    "Use grouping as in the example above; search for \"Grouping\" in the official [tutorial](https://docs.python.org/3/howto/regex.html) for more information. You can stick with files from one database, or try to cater for a few of the conventions listed [here](https://en.wikipedia.org/wiki/FASTA_format#Description_line) - in that case, you may need a combination of ```if``` statements and regular expressions to get the job done."
   ]
  },
  {
   "cell_type": "markdown",
   "metadata": {},
   "source": [
    "### Books to scrape"
   ]
  },
  {
   "cell_type": "markdown",
   "metadata": {},
   "source": [
    "The few lines of code below download the html source code of the home page of a simulated [bookstore](http://books.toscrape.com/) meant for web scraping practice. Write code that uses regular expressions to extract the title and price of the books listed on the page, and prints them out as comma-separated values:\n",
    "\n",
    "```\n",
    "A Light in the Attic,£51.77\n",
    "Tipping the Velvet,£53.74\n",
    "...\n",
    "```\n",
    "Hint: have a look at the web page first. Then print the ```html``` variable, and use the search function of your browser (generally CTRL-F) on the notebook to find occurrences of title words or prices in the source code of the page. Is there any regularity you can exploit? \n"
   ]
  },
  {
   "cell_type": "code",
   "execution_count": null,
   "metadata": {},
   "outputs": [],
   "source": [
    "# This exercise uses the requests package - when running locally, if it is not\n",
    "# available, try to install it by typing \"pip install requests\" in the terminal. \n",
    "# Anaconda users try \"conda install requests\" instead\n",
    "from requests import get\n",
    "\n",
    "url='http://books.toscrape.com/'\n",
    "response=get(url)\n",
    "# html code as a string\n",
    "html=response.content.decode('utf-8')"
   ]
  },
  {
   "cell_type": "markdown",
   "metadata": {},
   "source": [
    "### PROSITE patterns"
   ]
  },
  {
   "cell_type": "markdown",
   "metadata": {},
   "source": [
    "Look up the pattern for a family of proteins of your choice on the PROSITE database.\n",
    "\n",
    "http://prosite.expasy.org/\n",
    "\n",
    "Transform the pattern into a Python REGEXP and trawl the chicken proteome with it. Do the results  you obtain make sense?"
   ]
  },
  {
   "cell_type": "markdown",
   "metadata": {},
   "source": [
    "### An interactive tutorial"
   ]
  },
  {
   "cell_type": "markdown",
   "metadata": {},
   "source": [
    "There are a number of interactive tutorials and puzzles on regular expressions online. Try this is one:\n",
    "    \n",
    "http://regexone.com/"
   ]
  },
  {
   "cell_type": "code",
   "execution_count": null,
   "metadata": {},
   "outputs": [],
   "source": []
  },
  {
   "cell_type": "markdown",
   "metadata": {},
   "source": [
    "**(C) 2014,2020 Fabrizio Smeraldi** ([f.smeraldi@qmul.ac.uk](mailto:f.smeraldi@qmul.ac.uk) - [web](http://www.eecs.qmul.ac.uk/~fabri/)), all rights reserved. In: \"Coding for Scientists\", School of Biological and Chemical Sciences, Queen Mary University of London."
   ]
  }
 ],
 "metadata": {
  "kernelspec": {
   "display_name": "Python 3",
   "language": "python",
   "name": "python3"
  },
  "language_info": {
   "codemirror_mode": {
    "name": "ipython",
    "version": 3
   },
   "file_extension": ".py",
   "mimetype": "text/x-python",
   "name": "python",
   "nbconvert_exporter": "python",
   "pygments_lexer": "ipython3",
   "version": "3.8.10"
  }
 },
 "nbformat": 4,
 "nbformat_minor": 1
}
